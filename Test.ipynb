# Створення класу
class Student:
    # Класова змінна, що містить список студентів
    students_list = []

    @classmethod
    def add_student(cls, name):
        """Метод для додавання студента до списку"""
        cls.students_list.append(name)

    @classmethod
    def get_all_students(cls):
        """Метод для виведення всіх студентів"""
        return cls.students_list

# Створюємо кілька студентів
Student.add_student("Іван")
Student.add_student("Марія")
Student.add_student("Олександр")

# Виводимо всіх студентів
Student.get_all_students()
