{
 "cells": [
  {
   "cell_type": "code",
   "execution_count": null,
   "metadata": {},
   "outputs": [],
   "source": []
  },
  {
   "cell_type": "code",
   "execution_count": 2,
   "metadata": {},
   "outputs": [
    {
     "name": "stdout",
     "output_type": "stream",
     "text": [
      "Bohdan start programming at 2024-09-25 10:28:56.627725. Lviv is the best city!\n"
     ]
    }
   ],
   "source": [
    "from datetime import datetime\n",
    "name = \"Bohdan\"\n",
    "location = \"Lviv\"\n",
    "\n",
    "print(f\"{name} start programming at {datetime.now()}. {location} is the best city!\")"
   ]
  },
  {
   "cell_type": "markdown",
   "metadata": {},
   "source": [
    "My first program"
   ]
  },
  {
   "cell_type": "code",
   "execution_count": 3,
   "metadata": {},
   "outputs": [
    {
     "name": "stdout",
     "output_type": "stream",
     "text": [
      "Привіт, світ!\n"
     ]
    }
   ],
   "source": [
    "print(\"Привіт, світ!\")\n"
   ]
  },
  {
   "cell_type": "markdown",
   "metadata": {},
   "source": [
    "Чому саме ця програма?\n",
    "Простота: Це дуже простий код, який не потребує складних знань. Він підходить для початківців і не викликає труднощів у виконанні.\n",
    "\n",
    "Основи синтаксису: Ця програма дозволяє ознайомитися з основним синтаксисом Python, зокрема з використанням функції print(), що є основою для виводу даних.\n",
    "\n",
    "Мотивація: Перший успіх у програмуванні, навіть такий малий, може сильно підвищити впевненість новачка. Коли ви бачите результат своєї роботи на екрані, це надихає рухатися далі.\n",
    "\n",
    "Можливість розширення: Від цієї простої програми можна легко перейти до більш складних, наприклад, додати запит на введення і привітати користувача по імені.\n",
    "\n",
    "Це хороший старт для того, щоб поринути у світ програмування!"
   ]
  }
 ],
 "metadata": {
  "kernelspec": {
   "display_name": "Python 3",
   "language": "python",
   "name": "python3"
  },
  "language_info": {
   "codemirror_mode": {
    "name": "ipython",
    "version": 3
   },
   "file_extension": ".py",
   "mimetype": "text/x-python",
   "name": "python",
   "nbconvert_exporter": "python",
   "pygments_lexer": "ipython3",
   "version": "3.12.5"
  }
 },
 "nbformat": 4,
 "nbformat_minor": 2
}
