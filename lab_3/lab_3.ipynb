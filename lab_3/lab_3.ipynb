{
 "cells": [
  {
   "cell_type": "code",
   "execution_count": 2,
   "metadata": {},
   "outputs": [
    {
     "name": "stdout",
     "output_type": "stream",
     "text": [
      "Toyota Corolla, 1983, Ціна: $10000\n",
      "Toyota Corolla, 1983, Ціна: $21000\n",
      "Nissan GTR, 2021, Потужність: 201 к.с., Ціна: $90000\n"
     ]
    },
    {
     "data": {
      "text/plain": [
       "<module 'my_file' from 'c:\\\\Users\\\\student\\\\Documents\\\\2024_TK42_oop-1\\\\2024_TK42_oop-1\\\\lab_3\\\\my_file.py'>"
      ]
     },
     "execution_count": 2,
     "metadata": {},
     "output_type": "execute_result"
    }
   ],
   "source": [
    "\n",
    "###### Перезавантаження нашого класу через імпорти\n",
    "import importlib\n",
    "import my_file\n",
    "\n",
    "importlib.reload(my_file)\n",
    "###### Кожного разу запускаємо цю комірку коли роимо зміни у класі"
   ]
  },
  {
   "cell_type": "markdown",
   "metadata": {},
   "source": [
    "У Python класові змінні (інколи їх називають змінними класу) є змінними, які належать безпосередньо до класу, а не до окремого об'єкта. Вони використовуються для зберігання даних, спільних для всіх об'єктів класу. Наприклад, класова змінна може бути корисною для відстеження загальної кількості створених об'єктів класу або зберігання будь-якої іншої інформації, яка є спільною для всіх екземплярів класу.\n",
    "\n",
    "Ось приклад, який показує, як використовувати класову змінну в Python:"
   ]
  },
  {
   "cell_type": "code",
   "execution_count": null,
   "metadata": {},
   "outputs": [
    {
     "name": "stdout",
     "output_type": "stream",
     "text": [
      "Кількість студентів: 7\n"
     ]
    }
   ],
   "source": [
    "class Student:\n",
    "    # Це класова змінна\n",
    "    student_count = 0\n",
    "\n",
    "    def __init__(self, name):\n",
    "        # Це змінна об'єкта\n",
    "        self.name = name\n",
    "        # Збільшуємо лічильник кожного разу, коли створюємо новий об'єкт Student\n",
    "        Student.student_count += 1\n",
    "\n",
    "# Створення кількох екземплярів класу Student\n",
    "s1 = Student(\"Alice\")\n",
    "s2 = Student(\"Bob\")\n",
    "s3 = Student(\"Bob\")\n",
    "s4 = Student(\"Bob\")\n",
    "s5 = Student(\"Bob\")\n",
    "s6 = Student(\"Bob\")\n",
    "s7 = Student(\"Bob\")\n",
    "\n",
    "print(\"Кількість студентів:\", Student.student_count)  # Виведе: Кількість студентів: 7\n"
   ]
  },
  {
   "cell_type": "markdown",
   "metadata": {},
   "source": [
    "У Python статичні методи — це методи класу, які не залежать від конкретного об'єкта класу і не потребують доступу до стану класу чи об'єкта. Їх використовують для виконання певної логіки, яка стосується класу загалом, але не взаємодіє безпосередньо із змінними об'єкта чи класу. Статичні методи оголошуються з використанням декоратора @staticmethod.\n",
    "\n",
    "Основні характеристики статичних методів:\n",
    "Не мають доступу до змінних об'єкта чи класу, оскільки не отримують параметрів self або cls.\n",
    "Використовуються для створення допоміжних функцій, пов’язаних із класом, які не залежать від стану конкретного екземпляра або класу.\n",
    "Викликаються як через ім'я класу, так і через екземпляр."
   ]
  },
  {
   "cell_type": "code",
   "execution_count": 13,
   "metadata": {},
   "outputs": [
    {
     "name": "stdout",
     "output_type": "stream",
     "text": [
      "Toyota Corolla: Чи може пройти поворот на швидкості 80 км/год? True\n",
      "Nissan Silvia: Чи може пройти поворот на швидкості 90 км/год? False\n"
     ]
    }
   ],
   "source": [
    "class Car:\n",
    "    def __init__(self, make, model):\n",
    "        # Змінні об'єкта\n",
    "        self.make = make\n",
    "        self.model = model\n",
    "    \n",
    "    # Статичний метод для перевірки, чи безпечно проходити поворот\n",
    "    @staticmethod\n",
    "    def can_turn_safely(speed):\n",
    "        # Припустимо, що максимальна безпечна швидкість для повороту — 85 км/год\n",
    "        return speed <= 85\n",
    "\n",
    "# Створення об'єктів Car для двох японських автомобілів\n",
    "car1 = Car(\"Toyota\", \"Corolla\")\n",
    "car2 = Car(\"Nissan\", \"Silvia\")\n",
    "\n",
    "# Перевірка, чи обидва автомобілі можуть пройти поворот на різних швидкостях\n",
    "print(f\"{car1.make} {car1.model}: Чи може пройти поворот на швидкості 80 км/год?\", Car.can_turn_safely(80))  # True\n",
    "print(f\"{car2.make} {car2.model}: Чи може пройти поворот на швидкості 90 км/год?\", Car.can_turn_safely(90))  # False\n"
   ]
  },
  {
   "cell_type": "markdown",
   "metadata": {},
   "source": [
    "Ось приклад коду для класу Car з публічними атрибутами. Публічні атрибути доступні для читання і зміни ззовні класу. У цьому прикладі створимо публічні атрибути make, model, max_turn_speed та метод для перевірки, чи може автомобіль пройти поворот на певній швидкості."
   ]
  },
  {
   "cell_type": "code",
   "execution_count": null,
   "metadata": {},
   "outputs": [],
   "source": [
    "class Car:\n",
    "    # Конструктор з публічними атрибутами\n",
    "    def __init__(self, make, model, max_turn_speed):\n",
    "        self.make = make               # Марка автомобіля (публічний атрибут)\n",
    "        self.model = model             # Модель автомобіля (публічний атрибут)\n",
    "        self.max_turn_speed = max_turn_speed  # Максимальна швидкість для повороту (публічний атрибут)\n",
    "    \n",
    "    # Метод для перевірки, чи може автомобіль пройти поворот на певній швидкості\n",
    "    def can_turn_safely(self, speed):\n",
    "        return speed <= self.max_turn_speed\n",
    "\n",
    "# Створення об'єктів Car для двох японських автомобілів\n",
    "car1 = Car(\"Toyota\", \"Supra\", 85)\n",
    "car2 = Car(\"Nissan\", \"Skyline\", 90)\n",
    "\n",
    "# Використання публічних атрибутів та виклик методу для перевірки повороту\n",
    "print(f\"{car1.make} {car1.model}: Чи може пройти поворот на швидкості 80 км/год?\", car1.can_turn_safely(80))  # True\n",
    "print(f\"{car2.make} {car2.model}: Чи може пройти поворот на швидкості 95 км/год?\", car2.can_turn_safely(95))  # False\n",
    "\n",
    "# Зміна значення публічного атрибуту\n",
    "car1.max_turn_speed = 90  # Змінюємо максимальну швидкість для повороту для Toyota Supra\n",
    "print(f\"{car1.make} {car1.model}: Чи може пройти поворот на швидкості 90 км/год?\", car1.can_turn_safely(90))  # True після зміни\n"
   ]
  }
 ],
 "metadata": {
  "kernelspec": {
   "display_name": "Python 3",
   "language": "python",
   "name": "python3"
  },
  "language_info": {
   "codemirror_mode": {
    "name": "ipython",
    "version": 3
   },
   "file_extension": ".py",
   "mimetype": "text/x-python",
   "name": "python",
   "nbconvert_exporter": "python",
   "pygments_lexer": "ipython3",
   "version": "3.12.5"
  }
 },
 "nbformat": 4,
 "nbformat_minor": 2
}
