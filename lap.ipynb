{
 "cells": [
  {
   "cell_type": "code",
   "execution_count": 26,
   "metadata": {},
   "outputs": [
    {
     "name": "stdout",
     "output_type": "stream",
     "text": [
      "['0) Тут буде помилка\\n', '1) Тут буде помилка\\n', '2) Тут буде помилка\\n', '3) Тут буде помилка\\n', '4) Тут буде помилка\\n']\n"
     ]
    }
   ],
   "source": [
    "\n",
    "f = open(\"test.txt\", \"w\", encoding=\"utf-8\")\n",
    "for i in range(5):\n",
    "    f.write(f\"{i}) Тут буде помилка\\n\")\n",
    "f.close()\n",
    "\n",
    "\n",
    "\n",
    "\n",
    "\n",
    "with open(\"test.txt\", \"r\", encoding=\"utf-8\") as f:\n",
    "    content = f.readlines()\n",
    "\n",
    "print(content)"
   ]
  },
  {
   "cell_type": "markdown",
   "metadata": {},
   "source": [
    "Прошу chatgpt щоб він написав програму для контекст менеджерів"
   ]
  },
  {
   "cell_type": "code",
   "execution_count": 27,
   "metadata": {},
   "outputs": [
    {
     "name": "stdout",
     "output_type": "stream",
     "text": [
      "Hello, World!\n"
     ]
    }
   ],
   "source": [
    "from contextlib import contextmanager\n",
    "\n",
    "@contextmanager\n",
    "def open_file(file_name, mode='r'):\n",
    "    try:\n",
    "        file = open(file_name, mode)\n",
    "        yield file  # Передаємо контроль у блок `with`\n",
    "    finally:\n",
    "        file.close()  # Закриваємо файл, коли блок `with` завершується\n",
    "\n",
    "# Використання контекстного менеджера\n",
    "with open_file('test.txt', 'w') as f:\n",
    "    f.write('Hello, World!')\n",
    "\n",
    "# Читання з файлу\n",
    "with open_file('test.txt', 'r') as f:\n",
    "    content = f.read()\n",
    "    print(content)\n"
   ]
  }
 ],
 "metadata": {
  "kernelspec": {
   "display_name": "Python 3",
   "language": "python",
   "name": "python3"
  },
  "language_info": {
   "codemirror_mode": {
    "name": "ipython",
    "version": 3
   },
   "file_extension": ".py",
   "mimetype": "text/x-python",
   "name": "python",
   "nbconvert_exporter": "python",
   "pygments_lexer": "ipython3",
   "version": "3.12.5"
  }
 },
 "nbformat": 4,
 "nbformat_minor": 2
}
