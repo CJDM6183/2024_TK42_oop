# Створення класу Book
class Book:
    def __init__(self, title, author):
        self.title = title  # атрибут для збереження назви книги
        self.author = author  # атрибут для збереження автора книги

    def get_book_info(self):
        """Метод для виведення інформації про книгу"""
        return f"Назва: {self.title}, Автор: {self.author}"

# Створюємо об'єкт класу Book
book1 = Book("1984", "Джордж Орвелл")
book2 = Book("Мобі Дік", "Герман Мелвілл")

# Виводимо інформацію про книги
print(book1.get_book_info())
print(book2.get_book_info())
