even_numbers_sum = sum(i for i in range(1, 101) if i % 2 == 0)
even_numbers_sum

